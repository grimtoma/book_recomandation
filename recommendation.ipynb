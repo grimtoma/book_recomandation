{
  "nbformat": 4,
  "nbformat_minor": 0,
  "metadata": {
    "colab": {
      "provenance": [],
      "authorship_tag": "ABX9TyOO+nuFsfUf1rWzDwsIfZnX",
      "include_colab_link": true
    },
    "kernelspec": {
      "name": "python3",
      "display_name": "Python 3"
    },
    "language_info": {
      "name": "python"
    }
  },
  "cells": [
    {
      "cell_type": "markdown",
      "metadata": {
        "id": "view-in-github",
        "colab_type": "text"
      },
      "source": [
        "<a href=\"https://colab.research.google.com/github/grimtoma/book_recomandation/blob/main/recommendation.ipynb\" target=\"_parent\"><img src=\"https://colab.research.google.com/assets/colab-badge.svg\" alt=\"Open In Colab\"/></a>"
      ]
    },
    {
      "cell_type": "markdown",
      "source": [
        "# Exercise - Data Scientist\n",
        "Problem: Book recommendations - „I like Lord of the Rings, what else should I read?“\n",
        "\n",
        "**Goal:**\n",
        "- take some data, try some approaches, produce some code, get some results\n",
        "- then come and show us your solution and have a chat around it - show how you think about a specific problem, how you are able to explain what approach you used and why, think about the limitations of the approach and how things could be improved if there was more time, what you think of the results and if they make sense, etc.\n",
        "\n",
        "**Philosophy:**\n",
        "- the actual result and code are not that important – the journey there and potential future paths are more important\n",
        "- if you are able to follow-through with some ideas then great, if you just start something and have a clear idea on how to proceed that is also useful\n",
        "- the expectation is that you will spend an evening or two with the task (but there are no bounds to proactivity if you enjoy playing with the problem)\n",
        "\n",
        "**Data:**\n",
        "- available open dataset: http://www2.informatik.uni-freiburg.de/~cziegler/BX/\n",
        "- alternatively feel free to grab any other relevant data set\n",
        "\n",
        "**Tools:**\n",
        "- use whatever you are comfortable in (R, Python, Matlab, Java, SQL,…) or feel free to use it as an opportunity to try out a new language\n",
        "- it is not a contest in finding the best black-box library and blindly using it – own solutions are preferred even if they are simple\n",
        "- how to present: up to you – slides, walking through code, drawing, …"
      ],
      "metadata": {
        "id": "uINF1N1tkGyl"
      }
    },
    {
      "cell_type": "code",
      "source": [],
      "metadata": {
        "id": "8G9XcBdZlH-B"
      },
      "execution_count": null,
      "outputs": []
    }
  ]
}