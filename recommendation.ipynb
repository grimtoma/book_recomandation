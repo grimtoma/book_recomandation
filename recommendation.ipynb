{
  "nbformat": 4,
  "nbformat_minor": 0,
  "metadata": {
    "colab": {
      "provenance": [],
      "authorship_tag": "ABX9TyN5GJSWjBfY/nTMo7Qz8s7b",
      "include_colab_link": true
    },
    "kernelspec": {
      "name": "python3",
      "display_name": "Python 3"
    },
    "language_info": {
      "name": "python"
    }
  },
  "cells": [
    {
      "cell_type": "markdown",
      "metadata": {
        "id": "view-in-github",
        "colab_type": "text"
      },
      "source": [
        "<a href=\"https://colab.research.google.com/github/grimtoma/book_recomandation/blob/main/recommendation.ipynb\" target=\"_parent\"><img src=\"https://colab.research.google.com/assets/colab-badge.svg\" alt=\"Open In Colab\"/></a>"
      ]
    },
    {
      "cell_type": "markdown",
      "source": [
        "# Exercise - Data Scientist\n",
        "Problem: Book recommendations - „I like Lord of the Rings, what else should I read?“\n",
        "\n",
        "**Goal:**\n",
        "- take some data, try some approaches, produce some code, get some results\n",
        "- then come and show us your solution and have a chat around it - show how you think about a specific problem, how you are able to explain what approach you used and why, think about the limitations of the approach and how things could be improved if there was more time, what you think of the results and if they make sense, etc.\n",
        "\n",
        "**Philosophy:**\n",
        "- the actual result and code are not that important – the journey there and potential future paths are more important\n",
        "- if you are able to follow-through with some ideas then great, if you just start something and have a clear idea on how to proceed that is also useful\n",
        "- the expectation is that you will spend an evening or two with the task (but there are no bounds to proactivity if you enjoy playing with the problem)\n",
        "\n",
        "**Data:**\n",
        "- available open dataset: http://www2.informatik.uni-freiburg.de/~cziegler/BX/\n",
        "- alternatively feel free to grab any other relevant data set\n",
        "\n",
        "**Tools:**\n",
        "- use whatever you are comfortable in (R, Python, Matlab, Java, SQL,…) or feel free to use it as an opportunity to try out a new language\n",
        "- it is not a contest in finding the best black-box library and blindly using it – own solutions are preferred even if they are simple\n",
        "- how to present: up to you – slides, walking through code, drawing, …"
      ],
      "metadata": {
        "id": "uINF1N1tkGyl"
      }
    },
    {
      "cell_type": "code",
      "source": [
        "!pip install wget\n",
        "!wget http://www2.informatik.uni-freiburg.de/~cziegler/BX/BX-CSV-Dump.zip\n",
        "!unzip \"/content/BX-CSV-Dump.zip\" -d \"/content/data/\""
      ],
      "metadata": {
        "colab": {
          "base_uri": "https://localhost:8080/"
        },
        "id": "yw90huAPq24P",
        "outputId": "ee1a1518-2dd9-4ca7-b9ac-e40c654172da"
      },
      "execution_count": 1,
      "outputs": [
        {
          "output_type": "stream",
          "name": "stdout",
          "text": [
            "Collecting wget\n",
            "  Downloading wget-3.2.zip (10 kB)\n",
            "  Preparing metadata (setup.py) ... \u001b[?25l\u001b[?25hdone\n",
            "Building wheels for collected packages: wget\n",
            "  Building wheel for wget (setup.py) ... \u001b[?25l\u001b[?25hdone\n",
            "  Created wheel for wget: filename=wget-3.2-py3-none-any.whl size=9655 sha256=ca870b75ea74cfe6c519da6857ae9018ca4ac23d7d777375339d173bd89edfac\n",
            "  Stored in directory: /root/.cache/pip/wheels/8b/f1/7f/5c94f0a7a505ca1c81cd1d9208ae2064675d97582078e6c769\n",
            "Successfully built wget\n",
            "Installing collected packages: wget\n",
            "Successfully installed wget-3.2\n",
            "--2023-08-23 21:18:08--  http://www2.informatik.uni-freiburg.de/~cziegler/BX/BX-CSV-Dump.zip\n",
            "Resolving www2.informatik.uni-freiburg.de (www2.informatik.uni-freiburg.de)... 132.230.105.133\n",
            "Connecting to www2.informatik.uni-freiburg.de (www2.informatik.uni-freiburg.de)|132.230.105.133|:80... connected.\n",
            "HTTP request sent, awaiting response... 200 OK\n",
            "Length: 26085508 (25M) [application/zip]\n",
            "Saving to: ‘BX-CSV-Dump.zip’\n",
            "\n",
            "BX-CSV-Dump.zip     100%[===================>]  24.88M  7.81MB/s    in 3.2s    \n",
            "\n",
            "2023-08-23 21:18:12 (7.81 MB/s) - ‘BX-CSV-Dump.zip’ saved [26085508/26085508]\n",
            "\n",
            "Archive:  /content/BX-CSV-Dump.zip\n",
            "  inflating: /content/data/BX-Book-Ratings.csv  \n",
            "  inflating: /content/data/BX-Books.csv  \n",
            "  inflating: /content/data/BX-Users.csv  \n"
          ]
        }
      ]
    },
    {
      "cell_type": "code",
      "source": [
        "import os\n",
        "import pandas as pd\n",
        "book_ratings_df = pd.read_csv('/content/data/BX-Book-Ratings.csv', sep=\";\", on_bad_lines=\"warn\", encoding='ISO-8859-1')\n",
        "books_df = pd.read_csv('/content/data/BX-Books.csv', sep=\";\", on_bad_lines=\"warn\", encoding='ISO-8859-1')\n",
        "users_df = pd.read_csv('/content/data/BX-Users.csv', sep=\";\", on_bad_lines=\"warn\", encoding='ISO-8859-1')"
      ],
      "metadata": {
        "colab": {
          "base_uri": "https://localhost:8080/"
        },
        "id": "uRT50_RZu0in",
        "outputId": "5db0f09c-2140-4f61-9b9f-6bd374a05952"
      },
      "execution_count": 3,
      "outputs": [
        {
          "output_type": "stream",
          "name": "stderr",
          "text": [
            "Skipping line 6452: expected 8 fields, saw 9\n",
            "Skipping line 43667: expected 8 fields, saw 10\n",
            "Skipping line 51751: expected 8 fields, saw 9\n",
            "\n",
            "Skipping line 92038: expected 8 fields, saw 9\n",
            "Skipping line 104319: expected 8 fields, saw 9\n",
            "Skipping line 121768: expected 8 fields, saw 9\n",
            "\n",
            "Skipping line 144058: expected 8 fields, saw 9\n",
            "Skipping line 150789: expected 8 fields, saw 9\n",
            "Skipping line 157128: expected 8 fields, saw 9\n",
            "Skipping line 180189: expected 8 fields, saw 9\n",
            "Skipping line 185738: expected 8 fields, saw 9\n",
            "\n",
            "Skipping line 209388: expected 8 fields, saw 9\n",
            "Skipping line 220626: expected 8 fields, saw 9\n",
            "Skipping line 227933: expected 8 fields, saw 11\n",
            "Skipping line 228957: expected 8 fields, saw 10\n",
            "Skipping line 245933: expected 8 fields, saw 9\n",
            "Skipping line 251296: expected 8 fields, saw 9\n",
            "Skipping line 259941: expected 8 fields, saw 9\n",
            "Skipping line 261529: expected 8 fields, saw 9\n",
            "\n",
            "<ipython-input-3-bdb165811656>:4: DtypeWarning: Columns (3) have mixed types. Specify dtype option on import or set low_memory=False.\n",
            "  books_df = pd.read_csv('/content/data/BX-Books.csv', sep=\";\", on_bad_lines=\"warn\", encoding='ISO-8859-1')\n"
          ]
        }
      ]
    },
    {
      "cell_type": "code",
      "source": [
        "#print(book_ratings_df.head())\n",
        "#print(books_df.head())\n",
        "#print(users_df.head())\n",
        "df = pd.merge(books_df,book_ratings_df, on=\"ISBN\",indicator=True)\n",
        "print(df.info())\n",
        "print(books_df.info())\n",
        "print(book_ratings_df.info())\n"
      ],
      "metadata": {
        "colab": {
          "base_uri": "https://localhost:8080/"
        },
        "id": "R0wexfJaTsHN",
        "outputId": "4c49fa8e-5b24-45c6-fa35-5b311c9adb15"
      },
      "execution_count": 21,
      "outputs": [
        {
          "output_type": "stream",
          "name": "stdout",
          "text": [
            "<class 'pandas.core.frame.DataFrame'>\n",
            "Int64Index: 1031136 entries, 0 to 1031135\n",
            "Data columns (total 11 columns):\n",
            " #   Column               Non-Null Count    Dtype   \n",
            "---  ------               --------------    -----   \n",
            " 0   ISBN                 1031136 non-null  object  \n",
            " 1   Book-Title           1031136 non-null  object  \n",
            " 2   Book-Author          1031135 non-null  object  \n",
            " 3   Year-Of-Publication  1031136 non-null  object  \n",
            " 4   Publisher            1031134 non-null  object  \n",
            " 5   Image-URL-S          1031136 non-null  object  \n",
            " 6   Image-URL-M          1031136 non-null  object  \n",
            " 7   Image-URL-L          1031132 non-null  object  \n",
            " 8   User-ID              1031136 non-null  int64   \n",
            " 9   Book-Rating          1031136 non-null  int64   \n",
            " 10  _merge               1031136 non-null  category\n",
            "dtypes: category(1), int64(2), object(8)\n",
            "memory usage: 87.5+ MB\n",
            "None\n",
            "<class 'pandas.core.frame.DataFrame'>\n",
            "RangeIndex: 271360 entries, 0 to 271359\n",
            "Data columns (total 8 columns):\n",
            " #   Column               Non-Null Count   Dtype \n",
            "---  ------               --------------   ----- \n",
            " 0   ISBN                 271360 non-null  object\n",
            " 1   Book-Title           271360 non-null  object\n",
            " 2   Book-Author          271359 non-null  object\n",
            " 3   Year-Of-Publication  271360 non-null  object\n",
            " 4   Publisher            271358 non-null  object\n",
            " 5   Image-URL-S          271360 non-null  object\n",
            " 6   Image-URL-M          271360 non-null  object\n",
            " 7   Image-URL-L          271357 non-null  object\n",
            "dtypes: object(8)\n",
            "memory usage: 16.6+ MB\n",
            "None\n",
            "<class 'pandas.core.frame.DataFrame'>\n",
            "RangeIndex: 1149780 entries, 0 to 1149779\n",
            "Data columns (total 3 columns):\n",
            " #   Column       Non-Null Count    Dtype \n",
            "---  ------       --------------    ----- \n",
            " 0   User-ID      1149780 non-null  int64 \n",
            " 1   ISBN         1149780 non-null  object\n",
            " 2   Book-Rating  1149780 non-null  int64 \n",
            "dtypes: int64(2), object(1)\n",
            "memory usage: 26.3+ MB\n",
            "None\n"
          ]
        }
      ]
    }
  ]
}